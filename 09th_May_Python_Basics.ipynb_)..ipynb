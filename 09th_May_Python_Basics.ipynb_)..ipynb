{
 "cells": [
  {
   "cell_type": "code",
   "execution_count": 1,
   "id": "a1d3cf68-3abf-4367-b829-d48deacedbd7",
   "metadata": {},
   "outputs": [
    {
     "name": "stdout",
     "output_type": "stream",
     "text": [
      "8 9\n"
     ]
    }
   ],
   "source": [
    "x = 9  # declaring x,y\n",
    "y = 8\n",
    "# using temp as tempory variable to store value of x\n",
    "temp = x\n",
    "#assigning value of x to y\n",
    "x = y\n",
    "#assigning value of y to temp\n",
    "\n",
    "y = temp\n",
    "\n",
    "print(x,y)\n",
    "\n",
    "\n"
   ]
  },
  {
   "cell_type": "code",
   "execution_count": 4,
   "id": "87aed616-5bd9-418c-8d91-007b12cba00e",
   "metadata": {},
   "outputs": [
    {
     "name": "stdout",
     "output_type": "stream",
     "text": [
      "Area of Rectangle : 72\n"
     ]
    }
   ],
   "source": [
    "# declaring length and width\n",
    "\n",
    "length = 9\n",
    "width = 8\n",
    "\n",
    "#cal area of rectangle\n",
    "\n",
    "rectangle_Area = length * width\n",
    "\n",
    "print(\"Area of Rectangle :\",rectangle_Area)\n"
   ]
  },
  {
   "cell_type": "code",
   "execution_count": 3,
   "id": "455900ac-b145-4409-98df-f775c0387f86",
   "metadata": {},
   "outputs": [
    {
     "name": "stdout",
     "output_type": "stream",
     "text": [
      "Temperature in Fahrenheit : 96.8\n"
     ]
    }
   ],
   "source": [
    "# declaring celius fahrenheit with formula\n",
    "celsius = 36\n",
    "fahrenheit = (1.8 * celsius) + 32\n",
    "print(\"Temperature in Fahrenheit :\", fahrenheit)"
   ]
  },
  {
   "cell_type": "code",
   "execution_count": null,
   "id": "a640bcd7-6d9d-4877-8924-c51aaaa14b67",
   "metadata": {},
   "outputs": [],
   "source": []
  }
 ],
 "metadata": {
  "kernelspec": {
   "display_name": "Python 3 (ipykernel)",
   "language": "python",
   "name": "python3"
  },
  "language_info": {
   "codemirror_mode": {
    "name": "ipython",
    "version": 3
   },
   "file_extension": ".py",
   "mimetype": "text/x-python",
   "name": "python",
   "nbconvert_exporter": "python",
   "pygments_lexer": "ipython3",
   "version": "3.10.8"
  }
 },
 "nbformat": 4,
 "nbformat_minor": 5
}
